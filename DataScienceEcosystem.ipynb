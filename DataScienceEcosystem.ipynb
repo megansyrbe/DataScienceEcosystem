{
 "cells": [
  {
   "cell_type": "markdown",
   "id": "7f2c38af-a807-4f1e-b754-8d4ee287a73d",
   "metadata": {
    "tags": []
   },
   "source": [
    "# Data Science Tools and Ecosystem"
   ]
  },
  {
   "cell_type": "markdown",
   "id": "9110f8a9-44ac-4b8a-ae87-dad87e91a89d",
   "metadata": {},
   "source": [
    "In this notebook, Data Science Tools and Ecosystem are summarized."
   ]
  },
  {
   "cell_type": "markdown",
   "id": "c50c200b-c963-4ad9-bc2c-53fcba0fb0b2",
   "metadata": {},
   "source": [
    "**Objectives:**\n",
    "+ List popular languages and libraries used by Data Scientists\n",
    "+ List open source development tools used in Data Science\n",
    "+ Display different markdown cell attributes, such as unordered and ordered lists, bold text, and headings\n",
    "+ Use comments to explain operations in code cells\n",
    "+ Write arithmetic expressions using code cells"
   ]
  },
  {
   "cell_type": "markdown",
   "id": "c9669985-aced-47de-8123-8a3e58803500",
   "metadata": {},
   "source": [
    "Some of the popular languages that Data Scientists use are:\n",
    "1. Python\n",
    "2. R \n",
    "3. SQL\n",
    "4. Scala\n",
    "5. Java\n",
    "6. C++\n",
    "7. Julia"
   ]
  },
  {
   "cell_type": "markdown",
   "id": "2fa044ff-9315-4406-8f3a-f788b98e15e5",
   "metadata": {},
   "source": [
    "Some of the commonly used libraries used by Data Scientists include:\n",
    "1. Pandas\n",
    "2. NumPy\n",
    "3. Matplotlib\n",
    "4. ggplot2"
   ]
  },
  {
   "cell_type": "markdown",
   "id": "9786bf14-e8e9-4223-92ef-31921a25904e",
   "metadata": {},
   "source": [
    "| Data Science Tools |\n",
    "|-------------------|\n",
    "|Jupyter|\n",
    "|RStudio|\n",
    "|Spyder|"
   ]
  },
  {
   "cell_type": "markdown",
   "id": "4acd7eb4-aee3-4674-b5ff-e2edbe949288",
   "metadata": {
    "tags": []
   },
   "source": [
    "### Below are a few examples of evaluating arithmetic expressions in Python"
   ]
  },
  {
   "cell_type": "code",
   "execution_count": 3,
   "id": "072b9f06-9e78-4879-9b4e-80a6468eb494",
   "metadata": {
    "tags": []
   },
   "outputs": [
    {
     "data": {
      "text/plain": [
       "17"
      ]
     },
     "execution_count": 3,
     "metadata": {},
     "output_type": "execute_result"
    }
   ],
   "source": [
    "# This is a simple arithmetic expression to multiply then add integers\n",
    "(3*4)+5"
   ]
  },
  {
   "cell_type": "code",
   "execution_count": 5,
   "id": "7414f643-e8b9-4538-a81c-7e8caf7cbf72",
   "metadata": {
    "tags": []
   },
   "outputs": [
    {
     "data": {
      "text/plain": [
       "3.3333333333333335"
      ]
     },
     "execution_count": 5,
     "metadata": {},
     "output_type": "execute_result"
    }
   ],
   "source": [
    "# This will convert 200 minutes to hours by dividing by 60\n",
    "200 / 60"
   ]
  },
  {
   "cell_type": "markdown",
   "id": "e150d78a-8e50-40b6-b74c-b2ba90267de6",
   "metadata": {},
   "source": [
    "## Author\n",
    "Megan Syrbe"
   ]
  },
  {
   "cell_type": "code",
   "execution_count": null,
   "id": "af22e345-adb5-4a23-9efc-c82b4e59630c",
   "metadata": {},
   "outputs": [],
   "source": []
  }
 ],
 "metadata": {
  "kernelspec": {
   "display_name": "Python 3 (ipykernel)",
   "language": "python",
   "name": "python3"
  },
  "language_info": {
   "codemirror_mode": {
    "name": "ipython",
    "version": 3
   },
   "file_extension": ".py",
   "mimetype": "text/x-python",
   "name": "python",
   "nbconvert_exporter": "python",
   "pygments_lexer": "ipython3",
   "version": "3.11.4"
  }
 },
 "nbformat": 4,
 "nbformat_minor": 5
}
